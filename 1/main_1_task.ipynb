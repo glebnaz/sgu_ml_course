{
 "cells": [
  {
   "cell_type": "code",
   "execution_count": 2,
   "metadata": {},
   "outputs": [
    {
     "data": {
      "text/html": [
       "<div>\n",
       "<style scoped>\n",
       "    .dataframe tbody tr th:only-of-type {\n",
       "        vertical-align: middle;\n",
       "    }\n",
       "\n",
       "    .dataframe tbody tr th {\n",
       "        vertical-align: top;\n",
       "    }\n",
       "\n",
       "    .dataframe thead th {\n",
       "        text-align: right;\n",
       "    }\n",
       "</style>\n",
       "<table border=\"1\" class=\"dataframe\">\n",
       "  <thead>\n",
       "    <tr style=\"text-align: right;\">\n",
       "      <th></th>\n",
       "      <th>filename</th>\n",
       "      <th>is_cat</th>\n",
       "    </tr>\n",
       "  </thead>\n",
       "  <tbody>\n",
       "    <tr>\n",
       "      <th>0</th>\n",
       "      <td>cat.3485.jpg</td>\n",
       "      <td>True</td>\n",
       "    </tr>\n",
       "    <tr>\n",
       "      <th>1</th>\n",
       "      <td>cat.12496.jpg</td>\n",
       "      <td>True</td>\n",
       "    </tr>\n",
       "    <tr>\n",
       "      <th>2</th>\n",
       "      <td>cat.10120.jpg</td>\n",
       "      <td>True</td>\n",
       "    </tr>\n",
       "    <tr>\n",
       "      <th>3</th>\n",
       "      <td>dog.7293.jpg</td>\n",
       "      <td>False</td>\n",
       "    </tr>\n",
       "    <tr>\n",
       "      <th>4</th>\n",
       "      <td>dog.5402.jpg</td>\n",
       "      <td>False</td>\n",
       "    </tr>\n",
       "    <tr>\n",
       "      <th>...</th>\n",
       "      <td>...</td>\n",
       "      <td>...</td>\n",
       "    </tr>\n",
       "    <tr>\n",
       "      <th>4995</th>\n",
       "      <td>cat.9121.jpg</td>\n",
       "      <td>True</td>\n",
       "    </tr>\n",
       "    <tr>\n",
       "      <th>4996</th>\n",
       "      <td>cat.7054.jpg</td>\n",
       "      <td>True</td>\n",
       "    </tr>\n",
       "    <tr>\n",
       "      <th>4997</th>\n",
       "      <td>dog.4704.jpg</td>\n",
       "      <td>False</td>\n",
       "    </tr>\n",
       "    <tr>\n",
       "      <th>4998</th>\n",
       "      <td>cat.11267.jpg</td>\n",
       "      <td>True</td>\n",
       "    </tr>\n",
       "    <tr>\n",
       "      <th>4999</th>\n",
       "      <td>cat.6787.jpg</td>\n",
       "      <td>True</td>\n",
       "    </tr>\n",
       "  </tbody>\n",
       "</table>\n",
       "<p>5000 rows × 2 columns</p>\n",
       "</div>"
      ],
      "text/plain": [
       "           filename  is_cat\n",
       "0      cat.3485.jpg    True\n",
       "1     cat.12496.jpg    True\n",
       "2     cat.10120.jpg    True\n",
       "3      dog.7293.jpg   False\n",
       "4      dog.5402.jpg   False\n",
       "...             ...     ...\n",
       "4995   cat.9121.jpg    True\n",
       "4996   cat.7054.jpg    True\n",
       "4997   dog.4704.jpg   False\n",
       "4998  cat.11267.jpg    True\n",
       "4999   cat.6787.jpg    True\n",
       "\n",
       "[5000 rows x 2 columns]"
      ]
     },
     "execution_count": 2,
     "metadata": {},
     "output_type": "execute_result"
    }
   ],
   "source": [
    "import pandas as pd\n",
    "import pathlib\n",
    "import hashlib\n",
    "import numpy as np\n",
    "import random\n",
    "from PIL import Image\n",
    "import tqdm\n",
    "import sys\n",
    "from sklearn.model_selection import train_test_split\n",
    "from sklearn.utils import check_random_state\n",
    "\n",
    "STUDENT_ID = \"glebnaz\"\n",
    "\n",
    "train_directory = pathlib.Path(\"data/train\")\n",
    "sample_size = 5000\n",
    "\n",
    "def initialize_random_seed():\n",
    "    \"\"\"Инициализирует ГПСЧ из STUDENT_ID\"\"\"\n",
    "    sha256 = hashlib.sha256()\n",
    "    sha256.update(STUDENT_ID.encode(\"utf-8\"))\n",
    "    \n",
    "    fingerprint = int(sha256.hexdigest(), 16) % (2**32) \n",
    "    \n",
    "    random.seed(fingerprint)\n",
    "    np.random.seed(fingerprint)\n",
    "\n",
    "\n",
    "def read_target_variable():\n",
    "    \"\"\"Прочитаем разметку фотографий из названий файлов\"\"\"\n",
    "    target_variable = {\n",
    "        \"filename\": [],\n",
    "        \"is_cat\": []\n",
    "    }\n",
    "    image_paths = list(train_directory.glob(\"*.jpg\"))\n",
    "    random.shuffle(image_paths)\n",
    "    for image_path in image_paths[:sample_size]:\n",
    "        filename = image_path.name\n",
    "        class_name = filename.split(\".\")[0]\n",
    "        target_variable[\"filename\"].append(filename)\n",
    "        target_variable[\"is_cat\"].append(class_name == \"cat\")\n",
    "\n",
    "    return pd.DataFrame(data=target_variable)\n",
    "\n",
    "\n",
    "initialize_random_seed()\n",
    "\n",
    "target_df = read_target_variable()\n",
    "target_df"
   ]
  },
  {
   "cell_type": "code",
   "execution_count": 3,
   "metadata": {},
   "outputs": [
    {
     "name": "stderr",
     "output_type": "stream",
     "text": [
      "100%|██████████| 5000/5000 [00:34<00:00, 145.00it/s]\n"
     ]
    },
    {
     "data": {
      "text/plain": [
       "array([[193, 213, 219, ..., 151, 157, 204],\n",
       "       [221, 221, 222, ...,  35,  38,  33],\n",
       "       [ 96,  99, 100, ...,   4,   3,   4],\n",
       "       ...,\n",
       "       [249, 252, 234, ..., 164, 164, 159],\n",
       "       [ 46,  50,  54, ..., 135, 144, 143],\n",
       "       [132, 133, 134, ...,  62,  57,  54]], dtype=uint8)"
      ]
     },
     "execution_count": 3,
     "metadata": {},
     "output_type": "execute_result"
    }
   ],
   "source": [
    "#строим признаковое описание\n",
    "def read_data(target_df):\n",
    "    \"\"\"Читает данные изображений и строит их признаковое описание\"\"\"\n",
    "    image_size = (100, 100)\n",
    "    features = []\n",
    "    target = []\n",
    "    for i, image_name, is_cat in tqdm.tqdm(target_df.itertuples(), total=len(target_df)):\n",
    "        image_path = str(train_directory / image_name)\n",
    "        image = Image.open(image_path)\n",
    "        image = image.resize(image_size) # уменьшаем изображения\n",
    "        image = image.convert('LA') # преобразуем в Ч\\Б\n",
    "        pixels = np.asarray(image)[:, :, 0]\n",
    "        pixels = pixels.flatten()\n",
    "        features.append(pixels)\n",
    "        target.append(is_cat)\n",
    "    return np.array(features), np.array(target)\n",
    "\n",
    "features, target = read_data(target_df)\n",
    "features"
   ]
  },
  {
   "cell_type": "code",
   "execution_count": 4,
   "metadata": {},
   "outputs": [
    {
     "data": {
      "text/plain": [
       "(5000, 10000)"
      ]
     },
     "execution_count": 4,
     "metadata": {},
     "output_type": "execute_result"
    }
   ],
   "source": [
    "features.shape"
   ]
  },
  {
   "cell_type": "code",
   "execution_count": 5,
   "metadata": {},
   "outputs": [],
   "source": [
    "#Разбиение данных на обучающую и тренеровочную модель\n",
    "random_state = check_random_state(0)\n",
    "permutation = random_state.permutation(features.shape[0])\n",
    "features = features[permutation]\n",
    "target = target[permutation]\n",
    "features = features.reshape((features.shape[0], -1))\n",
    "\n",
    "X_train, X_test, y_train, y_test = train_test_split(features, target, test_size=0.2)\n",
    "X_train, X_valid,y_train, y_valid = train_test_split(X_train, y_train, test_size=0.25)"
   ]
  },
  {
   "cell_type": "code",
   "execution_count": 6,
   "metadata": {},
   "outputs": [
    {
     "data": {
      "text/plain": [
       "array([ True, False,  True, ...,  True,  True,  True])"
      ]
     },
     "execution_count": 6,
     "metadata": {},
     "output_type": "execute_result"
    }
   ],
   "source": [
    "y_train"
   ]
  },
  {
   "cell_type": "code",
   "execution_count": 7,
   "metadata": {},
   "outputs": [
    {
     "name": "stdout",
     "output_type": "stream",
     "text": [
      "enter\n",
      "0.1\n",
      "0.1\n",
      "0.2\n",
      "0.30000000000000004\n",
      "0.5\n",
      "0.4\n",
      "0.5\n",
      "0.6\n",
      "0.7\n",
      "0.7999999999999999\n",
      "0.8999999999999999\n",
      "0.9999999999999999\n",
      "0.4\n",
      "finish to find eps\n",
      "0.544\n"
     ]
    }
   ],
   "source": [
    "#переходим к обучению модели\n",
    "from sklearn import linear_model\n",
    "eps = 0.11\n",
    "i=0.1\n",
    "print(\"enter\")\n",
    "model = linear_model.SGDClassifier(loss=\"log\",max_iter=5000)\n",
    "model.fit(X_train, y_train)\n",
    "score = 0.1\n",
    "while i<1:\n",
    "    print(i)\n",
    "    model = linear_model.SGDClassifier(loss=\"log\",max_iter=5000,eta0=i)\n",
    "    model.fit(X_train, y_train)\n",
    "    i=i+0.1\n",
    "    score_s = model.score(X_test,y_test)\n",
    "    if score_s>score:\n",
    "        print(score)\n",
    "        score = score_s\n",
    "        eps=i\n",
    "print(eps)\n",
    "model = linear_model.SGDClassifier(loss=\"log\",max_iter=5000,eta0=i)\n",
    "model.fit(X_train, y_train)\n",
    "print(\"finish to find eps\")\n",
    "print(model.score(X_valid,y_valid))\n",
    "\n",
    "\n"
   ]
  },
  {
   "cell_type": "code",
   "execution_count": 8,
   "metadata": {},
   "outputs": [
    {
     "name": "stdout",
     "output_type": "stream",
     "text": [
      "0.7296666666666667\n",
      "0.518\n"
     ]
    }
   ],
   "source": [
    "print(model.score(X_train,y_train))\n",
    "print(model.score(X_test,y_test))"
   ]
  },
  {
   "cell_type": "code",
   "execution_count": 13,
   "metadata": {},
   "outputs": [
    {
     "name": "stdout",
     "output_type": "stream",
     "text": [
      "start find eps\n",
      "new max score: 0.493\n",
      "final result\n",
      "0.546\n"
     ]
    }
   ],
   "source": [
    "# настройка гипер параметров, циклом подбираем eps\n",
    "# все делаю циклом что бы модель не зависила от данных\n",
    "i = 0.1\n",
    "eps = 0 \n",
    "max_score = 0.1\n",
    "while i < 1:\n",
    "    print(\"start find eps\")\n",
    "    sgd_tuned_clf = linear_model.SGDClassifier(loss='log', learning_rate='constant', eta0=i, penalty='l1')\n",
    "    sgd_tuned_clf.fit(X_train, y_train)\n",
    "    score_s = sgd_tuned_clf.score(X_valid, y_valid)\n",
    "    if max_score < score_s:\n",
    "        max_score = score_s\n",
    "        print(\"new max score:\"+\" \"+str(score_s))\n",
    "        eps = i\n",
    "    i=i+1    \n",
    "\n",
    "print(\"final result\")\n",
    "sgd_tuned_clf = linear_model.SGDClassifier(loss='log', learning_rate='constant', eta0=eps, penalty='l1')\n",
    "sgd_tuned_clf.fit(X_train, y_train)\n",
    "print(sgd_tuned_clf.score(X_valid, y_valid))"
   ]
  },
  {
   "cell_type": "code",
   "execution_count": 14,
   "metadata": {},
   "outputs": [
    {
     "name": "stdout",
     "output_type": "stream",
     "text": [
      "0.8433333333333334\n"
     ]
    }
   ],
   "source": [
    "#оценка результатов\n",
    "print(sgd_tuned_clf.score(X_train, y_train))"
   ]
  },
  {
   "cell_type": "code",
   "execution_count": 15,
   "metadata": {},
   "outputs": [
    {
     "name": "stdout",
     "output_type": "stream",
     "text": [
      "new max score: 0.526\n",
      "rezult after normalization data\n",
      "0.498\n",
      "0.51\n",
      "LogisticRegression rezult\n",
      "0.537\n",
      "0.576\n"
     ]
    }
   ],
   "source": [
    "#нормальзация данных\n",
    "from sklearn.preprocessing import StandardScaler\n",
    "from sklearn.linear_model import LogisticRegression\n",
    "\n",
    "scaler = StandardScaler()\n",
    "X_train = scaler.fit_transform(X_train)\n",
    "X_valid = scaler.fit_transform(X_valid)\n",
    "X_test = scaler.transform(X_test)\n",
    "\n",
    "i = 0.1\n",
    "eps = 0.1 \n",
    "max_score = 0.1\n",
    "while i<1:\n",
    "    sgd_scaled_and_tuned_clf = linear_model.SGDClassifier(loss='log', learning_rate='constant', eta0=i)\n",
    "    sgd_scaled_and_tuned_clf.fit(X_train, y_train)\n",
    "    score_s = sgd_scaled_and_tuned_clf.score(X_valid, y_valid)\n",
    "    if max_score < score_s:\n",
    "        max_score = score_s\n",
    "        print(\"new max score:\"+\" \"+str(score_s))\n",
    "        eps = i\n",
    "    i=i+1 \n",
    "\n",
    "print(\"rezult after normalization data\")\n",
    "sgd_scaled_and_tuned_clf = linear_model.SGDClassifier(loss='log', learning_rate='constant', eta0=eps)\n",
    "sgd_scaled_and_tuned_clf.fit(X_train, y_train)\n",
    "print(sgd_scaled_and_tuned_clf.score(X_valid, y_valid))\n",
    "print(sgd_scaled_and_tuned_clf.score(X_test, y_test))\n",
    "\n",
    "#LogisticRegression\n",
    "print(\"LogisticRegression rezult\")\n",
    "log_reg_scaled_clf = LogisticRegression(C=0.05, penalty='l1', solver='saga', tol=eps)\n",
    "log_reg_scaled_clf.fit(X_train, y_train)\n",
    "\n",
    "print(log_reg_scaled_clf.score(X_valid, y_valid))\n",
    "print(log_reg_scaled_clf.score(X_test, y_test))"
   ]
  },
  {
   "cell_type": "code",
   "execution_count": 24,
   "metadata": {},
   "outputs": [
    {
     "name": "stdout",
     "output_type": "stream",
     "text": [
      "iteration number 100\n",
      "iteration number 150\n",
      "iteration number 200\n",
      "iteration number 250\n",
      "iteration number 300\n",
      "iteration number 350\n",
      "final rezult\n",
      "validation set\n",
      "0.479\n",
      "train set\n",
      "1.0\n"
     ]
    }
   ],
   "source": [
    "##random forest\n",
    "from sklearn.ensemble import RandomForestClassifier\n",
    "\n",
    "\n",
    "X_train, X_test, y_train, y_test = train_test_split(features, target, test_size=0.2)\n",
    "\n",
    "i=100\n",
    "est = i\n",
    "score = 0.1\n",
    "while i<400:\n",
    "    print(\"iteration number \"+str(i))\n",
    "    rand_forest_clf = RandomForestClassifier(n_estimators=i)\n",
    "    rand_forest_clf.fit(X_train, y_train)\n",
    "    score_s = rand_forest_clf.score(X_test, y_test)\n",
    "    if score_s>score:\n",
    "        score = score_s\n",
    "        est = i\n",
    "    i=i+50\n",
    "    \n",
    "print(\"final rezult\")\n",
    "rand_forest_clf = RandomForestClassifier(n_estimators=est)\n",
    "rand_forest_clf.fit(X_train, y_train)\n",
    "print(\"validation set\")\n",
    "print(rand_forest_clf.score(X_valid, y_valid))\n",
    "print(\"train set\")\n",
    "print(rand_forest_clf.score(X_train, y_train))"
   ]
  },
  {
   "cell_type": "code",
   "execution_count": 27,
   "metadata": {},
   "outputs": [
    {
     "name": "stdout",
     "output_type": "stream",
     "text": [
      "cross validation\n",
      "[0.60875 0.62625 0.6125  0.65625 0.6275 ]\n"
     ]
    }
   ],
   "source": [
    "from sklearn.model_selection import cross_val_score\n",
    "\n",
    "print(\"cross validation\")\n",
    "\n",
    "scores = cross_val_score(rand_forest_clf, X_train, y_train, cv=5)\n",
    "print(scores)"
   ]
  },
  {
   "cell_type": "code",
   "execution_count": null,
   "metadata": {},
   "outputs": [],
   "source": []
  }
 ],
 "metadata": {
  "kernelspec": {
   "display_name": "Python 3",
   "language": "python",
   "name": "python3"
  },
  "language_info": {
   "codemirror_mode": {
    "name": "ipython",
    "version": 3
   },
   "file_extension": ".py",
   "mimetype": "text/x-python",
   "name": "python",
   "nbconvert_exporter": "python",
   "pygments_lexer": "ipython3",
   "version": "3.7.3"
  }
 },
 "nbformat": 4,
 "nbformat_minor": 2
}
